{
 "cells": [
  {
   "cell_type": "markdown",
   "metadata": {},
   "source": [
    "# Twitter Data Mining\n",
    "After playing around with the official Twitter API using the R package 'rtweet,' I wanted to explore a bit more beyond what the official API will let you do. The 'twitterscraper' python package seemed to be the way to go if I wanted to get historical twitter data for a particular search that goes beyond the 7-day limitation."
   ]
  },
  {
   "cell_type": "code",
   "execution_count": null,
   "metadata": {},
   "outputs": [],
   "source": [
    "##### Setup\n",
    "from twitterscraper import query_tweets;\n",
    "import fake_useragent;\n",
    "import pandas as pd\n",
    "import numpy as np\n",
    "\n",
    "# Initial Query\n",
    "list_of_tweets = query_tweets(\"ladot\",10000)"
   ]
  },
  {
   "cell_type": "code",
   "execution_count": null,
   "metadata": {},
   "outputs": [],
   "source": [
    "# Parse Query Results into df\n",
    "tweet_data = []\n",
    "for tweet in list_of_tweets:\n",
    "    tweet_data.append([tweet.user,\n",
    "                       tweet.id,\n",
    "                       tweet.timestamp,\n",
    "                       tweet.fullname,\n",
    "                       tweet.text,\n",
    "                       tweet.replies,\n",
    "                       tweet.retweets,\n",
    "                       tweet.likes])\n",
    "tweet_df = pd.DataFrame(tweet_data)\n",
    "tweet_df.columns = ['user','id','timestamp','fullname','text','replies','retweets','likes']"
   ]
  },
  {
   "cell_type": "code",
   "execution_count": null,
   "metadata": {
    "collapsed": true
   },
   "outputs": [],
   "source": [
    "# Write the resulting df to a csv file for later analysis\n",
    "tweet_df.to_csv(\"twitterscraper_data.csv\")"
   ]
  }
 ],
 "metadata": {
  "kernelspec": {
   "display_name": "Python 3",
   "language": "python",
   "name": "python3"
  },
  "language_info": {
   "codemirror_mode": {
    "name": "ipython",
    "version": 3
   },
   "file_extension": ".py",
   "mimetype": "text/x-python",
   "name": "python",
   "nbconvert_exporter": "python",
   "pygments_lexer": "ipython3",
   "version": "3.6.3"
  }
 },
 "nbformat": 4,
 "nbformat_minor": 2
}
